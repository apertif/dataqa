{
 "cells": [
  {
   "cell_type": "markdown",
   "metadata": {},
   "source": [
    "# Welcome to the OSA Report\n",
    "\n",
    "In order to fill out the report:\n",
    "\n",
    "1. Click in the menu above on \"Run\" two times or go to Cell -> Run All.\n",
    "2. Open the QA overview [here](index.html) and inspect the pages\n",
    "3. Fill in the form and click on \"Save\"\n",
    "\n",
    "**Notes:**\n",
    "1. When you click on \"Save\" you should see a confirmation or a notification if something is missing.\n",
    "2. If you already saved a report and you want to change something, please restart the notebook by going to Kernel -> Restart & Run All. This will load the content of the existing report and allow you to make specific changes. Please be aware that restarting the notebook will delete the content of the form.\n",
    "3. Due to the number of elements in the report, scrolling might be turned on. You can turn scrolling off by going to Cell -> All Outputs -> Toggle Scrolling\n",
    "\n",
    "*Do NOT change the code below.*"
   ]
  },
  {
   "cell_type": "code",
   "execution_count": null,
   "metadata": {},
   "outputs": [],
   "source": [
    "import osa_functions\n",
    "osa_functions.run()"
   ]
  }
 ],
 "metadata": {
  "celltoolbar": "Edit Metadata",
  "kernelspec": {
   "display_name": "Python 2",
   "language": "python",
   "name": "python2"
  },
  "language_info": {
   "codemirror_mode": {
    "name": "ipython",
    "version": 2
   },
   "file_extension": ".py",
   "mimetype": "text/x-python",
   "name": "python",
   "nbconvert_exporter": "python",
   "pygments_lexer": "ipython2",
   "version": "2.7.12"
  }
 },
 "nbformat": 4,
 "nbformat_minor": 2
}
