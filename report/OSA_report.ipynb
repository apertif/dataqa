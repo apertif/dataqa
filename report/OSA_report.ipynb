{
 "cells": [
  {
   "cell_type": "markdown",
   "metadata": {},
   "source": [
    "# Welcome to the OSA Report\n",
    "\n",
    "In order to fill out the report:\n",
    "\n",
    "1. Click in the menu above on \"Run\" two times or go to Cell -> Run All.\n",
    "2. Fill in the form and click on \"Save\"\n",
    "\n",
    "**Note:**\n",
    "When you click on \"Save\" you should see a confirmation \n",
    "or if something is missing a notification.\n",
    "\n",
    "*Do NOT change the code below.*"
   ]
  },
  {
   "cell_type": "code",
   "execution_count": 1,
   "metadata": {},
   "outputs": [
    {
     "data": {
      "application/vnd.jupyter.widget-view+json": {
       "model_id": "c3860c792d434b1ca1156e05918d13ea",
       "version_major": 2,
       "version_minor": 0
      },
      "text/plain": [
       "Label(value=u'Obs ID: 190602049')"
      ]
     },
     "metadata": {},
     "output_type": "display_data"
    },
    {
     "data": {
      "application/vnd.jupyter.widget-view+json": {
       "model_id": "57d97a8da88b40eab75b0a7f4240d678",
       "version_major": 2,
       "version_minor": 0
      },
      "text/plain": [
       "Text(value=u'', description=u'OSA:', placeholder=u'')"
      ]
     },
     "metadata": {},
     "output_type": "display_data"
    },
    {
     "data": {
      "application/vnd.jupyter.widget-view+json": {
       "model_id": "2fab314fb35644dab43c24d81b502fd1",
       "version_major": 2,
       "version_minor": 0
      },
      "text/plain": [
       "RHJvcGRvd24oZGVzY3JpcHRpb249dSdwcmVmbGFnOicsIG9wdGlvbnM9KCd1bmNoZWNrZWQnLCAndW5rbm93bicsICdmYWlsZWQnLCAnY3JpdGljYWwnLCAnZmFpcicsICdnb29kJyksIHZhbHXigKY=\n"
      ]
     },
     "metadata": {},
     "output_type": "display_data"
    },
    {
     "data": {
      "application/vnd.jupyter.widget-view+json": {
       "model_id": "95fc820c8951497b8518528ff2988bdb",
       "version_major": 2,
       "version_minor": 0
      },
      "text/plain": [
       "RHJvcGRvd24oZGVzY3JpcHRpb249dSdjcm9zc2NhbDonLCBvcHRpb25zPSgndW5jaGVja2VkJywgJ3Vua25vd24nLCAnZmFpbGVkJywgJ2NyaXRpY2FsJywgJ2ZhaXInLCAnZ29vZCcpLCB2YWzigKY=\n"
      ]
     },
     "metadata": {},
     "output_type": "display_data"
    },
    {
     "data": {
      "application/vnd.jupyter.widget-view+json": {
       "model_id": "f732ec7b97294fe8867cfa31e771b10a",
       "version_major": 2,
       "version_minor": 0
      },
      "text/plain": [
       "RHJvcGRvd24oZGVzY3JpcHRpb249dSdzZWxmY2FsOicsIG9wdGlvbnM9KCd1bmNoZWNrZWQnLCAndW5rbm93bicsICdmYWlsZWQnLCAnY3JpdGljYWwnLCAnZmFpcicsICdnb29kJyksIHZhbHXigKY=\n"
      ]
     },
     "metadata": {},
     "output_type": "display_data"
    },
    {
     "data": {
      "application/vnd.jupyter.widget-view+json": {
       "model_id": "0b8570ee105546289af397b2a0d17305",
       "version_major": 2,
       "version_minor": 0
      },
      "text/plain": [
       "RHJvcGRvd24oZGVzY3JpcHRpb249dSdjb250aW51dW06Jywgb3B0aW9ucz0oJ3VuY2hlY2tlZCcsICd1bmtub3duJywgJ2ZhaWxlZCcsICdjcml0aWNhbCcsICdmYWlyJywgJ2dvb2QnKSwgdmHigKY=\n"
      ]
     },
     "metadata": {},
     "output_type": "display_data"
    },
    {
     "data": {
      "application/vnd.jupyter.widget-view+json": {
       "model_id": "ef3d1546d46842bb817ffb91a172e9b4",
       "version_major": 2,
       "version_minor": 0
      },
      "text/plain": [
       "RHJvcGRvd24oZGVzY3JpcHRpb249dSdsaW5lOicsIG9wdGlvbnM9KCd1bmNoZWNrZWQnLCAndW5rbm93bicsICdmYWlsZWQnLCAnY3JpdGljYWwnLCAnZmFpcicsICdnb29kJyksIHZhbHVlPSfigKY=\n"
      ]
     },
     "metadata": {},
     "output_type": "display_data"
    },
    {
     "data": {
      "application/vnd.jupyter.widget-view+json": {
       "model_id": "0037dd1a8b4c44bb973821e1484ae452",
       "version_major": 2,
       "version_minor": 0
      },
      "text/plain": [
       "RHJvcGRvd24oZGVzY3JpcHRpb249dSdzdW1tYXJ5OicsIG9wdGlvbnM9KCd1bmNoZWNrZWQnLCAndW5rbm93bicsICdmYWlsZWQnLCAnY3JpdGljYWwnLCAnZmFpcicsICdnb29kJyksIHZhbHXigKY=\n"
      ]
     },
     "metadata": {},
     "output_type": "display_data"
    },
    {
     "data": {
      "application/vnd.jupyter.widget-view+json": {
       "model_id": "561515584e9348cf9d0955ff220c9a92",
       "version_major": 2,
       "version_minor": 0
      },
      "text/plain": [
       "Textarea(value=u'Nothing to add', description=u'Summary:', placeholder=u'Type something')"
      ]
     },
     "metadata": {},
     "output_type": "display_data"
    },
    {
     "data": {
      "application/vnd.jupyter.widget-view+json": {
       "model_id": "96231245eb6a47e18bcdc82c555b2d32",
       "version_major": 2,
       "version_minor": 0
      },
      "text/plain": [
       "Button(description=u'Save', style=ButtonStyle())"
      ]
     },
     "metadata": {},
     "output_type": "display_data"
    }
   ],
   "source": [
    "import osa_report\n",
    "osa_report.run()"
   ]
  },
  {
   "cell_type": "code",
   "execution_count": null,
   "metadata": {},
   "outputs": [],
   "source": []
  }
 ],
 "metadata": {
  "celltoolbar": "Edit Metadata",
  "kernelspec": {
   "display_name": "Python 2",
   "language": "python",
   "name": "python2"
  },
  "language_info": {
   "codemirror_mode": {
    "name": "ipython",
    "version": 2
   },
   "file_extension": ".py",
   "mimetype": "text/x-python",
   "name": "python",
   "nbconvert_exporter": "python",
   "pygments_lexer": "ipython2",
   "version": "2.7.12"
  },
  "widgets": {
   "application/vnd.jupyter.widget-state+json": {
    "state": {
     "0037dd1a8b4c44bb973821e1484ae452": {
      "model_module": "@jupyter-widgets/controls",
      "model_module_version": "1.4.0",
      "model_name": "DropdownModel",
      "state": {
       "_options_labels": [
        "unchecked",
        "unknown",
        "failed",
        "critical",
        "fair",
        "good"
       ],
       "description": "summary:",
       "index": 0,
       "layout": "IPY_MODEL_0329f89c4f0949c0b94579d5332f8864",
       "style": "IPY_MODEL_956b478883814998ae6de2ba1a15d909"
      }
     },
     "022941e0adc84f0e8d5fed483cf4c18d": {
      "model_module": "@jupyter-widgets/base",
      "model_module_version": "1.1.0",
      "model_name": "LayoutModel",
      "state": {}
     },
     "0329f89c4f0949c0b94579d5332f8864": {
      "model_module": "@jupyter-widgets/base",
      "model_module_version": "1.1.0",
      "model_name": "LayoutModel",
      "state": {}
     },
     "05d7d6787b514258b2bc144d605564f2": {
      "model_module": "@jupyter-widgets/controls",
      "model_module_version": "1.4.0",
      "model_name": "DescriptionStyleModel",
      "state": {
       "description_width": ""
      }
     },
     "077b705865b6425584ebecb25df013bc": {
      "model_module": "@jupyter-widgets/controls",
      "model_module_version": "1.4.0",
      "model_name": "DescriptionStyleModel",
      "state": {
       "description_width": ""
      }
     },
     "0b8570ee105546289af397b2a0d17305": {
      "model_module": "@jupyter-widgets/controls",
      "model_module_version": "1.4.0",
      "model_name": "DropdownModel",
      "state": {
       "_options_labels": [
        "unchecked",
        "unknown",
        "failed",
        "critical",
        "fair",
        "good"
       ],
       "description": "continuum:",
       "index": 0,
       "layout": "IPY_MODEL_abae8be633de4979b9166de653eef019",
       "style": "IPY_MODEL_cb7b385a8f4346e1a73a440a663511bf"
      }
     },
     "0fda3b0a2a7440aba20f58a633b6a65f": {
      "model_module": "@jupyter-widgets/base",
      "model_module_version": "1.1.0",
      "model_name": "LayoutModel",
      "state": {}
     },
     "1851985d533748df97acfd0e5a622a2b": {
      "model_module": "@jupyter-widgets/base",
      "model_module_version": "1.1.0",
      "model_name": "LayoutModel",
      "state": {}
     },
     "2de8b767c9504a29bcfd31804bd49aa6": {
      "model_module": "@jupyter-widgets/controls",
      "model_module_version": "1.4.0",
      "model_name": "DescriptionStyleModel",
      "state": {
       "description_width": ""
      }
     },
     "2fab314fb35644dab43c24d81b502fd1": {
      "model_module": "@jupyter-widgets/controls",
      "model_module_version": "1.4.0",
      "model_name": "DropdownModel",
      "state": {
       "_options_labels": [
        "unchecked",
        "unknown",
        "failed",
        "critical",
        "fair",
        "good"
       ],
       "description": "preflag:",
       "index": 0,
       "layout": "IPY_MODEL_49f96e50951f49adb726c92bb26dcbbc",
       "style": "IPY_MODEL_2de8b767c9504a29bcfd31804bd49aa6"
      }
     },
     "41816f029585422b810f8074a3f5429d": {
      "model_module": "@jupyter-widgets/base",
      "model_module_version": "1.1.0",
      "model_name": "LayoutModel",
      "state": {}
     },
     "49f96e50951f49adb726c92bb26dcbbc": {
      "model_module": "@jupyter-widgets/base",
      "model_module_version": "1.1.0",
      "model_name": "LayoutModel",
      "state": {}
     },
     "561515584e9348cf9d0955ff220c9a92": {
      "model_module": "@jupyter-widgets/controls",
      "model_module_version": "1.4.0",
      "model_name": "TextareaModel",
      "state": {
       "description": "Summary:",
       "layout": "IPY_MODEL_022941e0adc84f0e8d5fed483cf4c18d",
       "placeholder": "Type something",
       "style": "IPY_MODEL_05d7d6787b514258b2bc144d605564f2",
       "value": "Nothing to add"
      }
     },
     "57d97a8da88b40eab75b0a7f4240d678": {
      "model_module": "@jupyter-widgets/controls",
      "model_module_version": "1.4.0",
      "model_name": "TextModel",
      "state": {
       "description": "OSA:",
       "layout": "IPY_MODEL_41816f029585422b810f8074a3f5429d",
       "placeholder": "",
       "style": "IPY_MODEL_619a1ac8422a4dcf9e92f5e804d5ff8e"
      }
     },
     "619a1ac8422a4dcf9e92f5e804d5ff8e": {
      "model_module": "@jupyter-widgets/controls",
      "model_module_version": "1.4.0",
      "model_name": "DescriptionStyleModel",
      "state": {
       "description_width": ""
      }
     },
     "79cbd52cc47844dfb31af03fcd55e55b": {
      "model_module": "@jupyter-widgets/base",
      "model_module_version": "1.1.0",
      "model_name": "LayoutModel",
      "state": {}
     },
     "85cb5ed03b244231ae2771616f2ca813": {
      "model_module": "@jupyter-widgets/controls",
      "model_module_version": "1.4.0",
      "model_name": "ButtonStyleModel",
      "state": {}
     },
     "8e3803ddde3449ff935e1f53dbded5aa": {
      "model_module": "@jupyter-widgets/controls",
      "model_module_version": "1.4.0",
      "model_name": "DescriptionStyleModel",
      "state": {
       "description_width": ""
      }
     },
     "956b478883814998ae6de2ba1a15d909": {
      "model_module": "@jupyter-widgets/controls",
      "model_module_version": "1.4.0",
      "model_name": "DescriptionStyleModel",
      "state": {
       "description_width": ""
      }
     },
     "95fc820c8951497b8518528ff2988bdb": {
      "model_module": "@jupyter-widgets/controls",
      "model_module_version": "1.4.0",
      "model_name": "DropdownModel",
      "state": {
       "_options_labels": [
        "unchecked",
        "unknown",
        "failed",
        "critical",
        "fair",
        "good"
       ],
       "description": "crosscal:",
       "index": 0,
       "layout": "IPY_MODEL_d68e005a3e32423097b7d36e90cab53d",
       "style": "IPY_MODEL_9e4a5d1874614438b170154ca34dab72"
      }
     },
     "96231245eb6a47e18bcdc82c555b2d32": {
      "model_module": "@jupyter-widgets/controls",
      "model_module_version": "1.4.0",
      "model_name": "ButtonModel",
      "state": {
       "description": "Save",
       "layout": "IPY_MODEL_79cbd52cc47844dfb31af03fcd55e55b",
       "style": "IPY_MODEL_85cb5ed03b244231ae2771616f2ca813"
      }
     },
     "9e4a5d1874614438b170154ca34dab72": {
      "model_module": "@jupyter-widgets/controls",
      "model_module_version": "1.4.0",
      "model_name": "DescriptionStyleModel",
      "state": {
       "description_width": ""
      }
     },
     "abae8be633de4979b9166de653eef019": {
      "model_module": "@jupyter-widgets/base",
      "model_module_version": "1.1.0",
      "model_name": "LayoutModel",
      "state": {}
     },
     "c3860c792d434b1ca1156e05918d13ea": {
      "model_module": "@jupyter-widgets/controls",
      "model_module_version": "1.4.0",
      "model_name": "LabelModel",
      "state": {
       "layout": "IPY_MODEL_0fda3b0a2a7440aba20f58a633b6a65f",
       "style": "IPY_MODEL_8e3803ddde3449ff935e1f53dbded5aa",
       "value": "Obs ID: 190602049"
      }
     },
     "cb7b385a8f4346e1a73a440a663511bf": {
      "model_module": "@jupyter-widgets/controls",
      "model_module_version": "1.4.0",
      "model_name": "DescriptionStyleModel",
      "state": {
       "description_width": ""
      }
     },
     "d68e005a3e32423097b7d36e90cab53d": {
      "model_module": "@jupyter-widgets/base",
      "model_module_version": "1.1.0",
      "model_name": "LayoutModel",
      "state": {}
     },
     "e105d6ad068649cab8b65a4ee0a1f039": {
      "model_module": "@jupyter-widgets/controls",
      "model_module_version": "1.4.0",
      "model_name": "DescriptionStyleModel",
      "state": {
       "description_width": ""
      }
     },
     "e7838e1570b24437bdd095ee4e445b6d": {
      "model_module": "@jupyter-widgets/base",
      "model_module_version": "1.1.0",
      "model_name": "LayoutModel",
      "state": {}
     },
     "ef3d1546d46842bb817ffb91a172e9b4": {
      "model_module": "@jupyter-widgets/controls",
      "model_module_version": "1.4.0",
      "model_name": "DropdownModel",
      "state": {
       "_options_labels": [
        "unchecked",
        "unknown",
        "failed",
        "critical",
        "fair",
        "good"
       ],
       "description": "line:",
       "index": 0,
       "layout": "IPY_MODEL_1851985d533748df97acfd0e5a622a2b",
       "style": "IPY_MODEL_077b705865b6425584ebecb25df013bc"
      }
     },
     "f732ec7b97294fe8867cfa31e771b10a": {
      "model_module": "@jupyter-widgets/controls",
      "model_module_version": "1.4.0",
      "model_name": "DropdownModel",
      "state": {
       "_options_labels": [
        "unchecked",
        "unknown",
        "failed",
        "critical",
        "fair",
        "good"
       ],
       "description": "selfcal:",
       "index": 0,
       "layout": "IPY_MODEL_e7838e1570b24437bdd095ee4e445b6d",
       "style": "IPY_MODEL_e105d6ad068649cab8b65a4ee0a1f039"
      }
     }
    },
    "version_major": 2,
    "version_minor": 0
   }
  }
 },
 "nbformat": 4,
 "nbformat_minor": 2
}
