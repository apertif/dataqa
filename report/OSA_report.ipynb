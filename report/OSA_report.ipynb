{
 "cells": [
  {
   "cell_type": "markdown",
   "metadata": {},
   "source": [
    "# Welcome to the OSA Report\n",
    "\n",
    "In order to fill out the report:\n",
    "\n",
    "1. Click in the menu above on \"Run\" two times or go to Cell -> Run All.\n",
    "2. Open the QA overview [here](index.html) and inspect the pages\n",
    "3. Fill in the form and click on \"Save\". You can save the report as many times as you want and also if it is incomplete (see notes)\n",
    "\n",
    "**Notes:**\n",
    "1. In order to fill out the report completely, you need to select a status for each step and if the status is not \"Excellent\", to add a note as to why.\n",
    "2. When you click on \"Save\" you should see a confirmation or a notifications if something is missing. You can save an incomplete report and the warning messages will tell you what is missing.\n",
    "3. Please be aware the report is not automatically saved.\n",
    "4. If a report already exists (complete or incomplete) and you restarted the kernel/notebook, it should reload the contente of the existing report. You can restart the notebook manually by going to Kernel -> Restart & Run All. Please be aware that restarting the notebook will delete the content of the form if you have not save the report.\n",
    "5. Due to the number of elements in the report, scrolling might be turned on. You can turn scrolling off by going to Cell -> All Outputs -> Toggle Scrolling\n",
    "\n",
    "*Do NOT change the code below.*"
   ]
  },
  {
   "cell_type": "code",
   "execution_count": null,
   "metadata": {},
   "outputs": [],
   "source": [
    "import osa_functions\n",
    "osa_functions.run()"
   ]
  }
 ],
 "metadata": {
  "celltoolbar": "Edit Metadata",
  "kernelspec": {
   "display_name": "Python 2",
   "language": "python",
   "name": "python2"
  },
  "language_info": {
   "codemirror_mode": {
    "name": "ipython",
    "version": 2
   },
   "file_extension": ".py",
   "mimetype": "text/x-python",
   "name": "python",
   "nbconvert_exporter": "python",
   "pygments_lexer": "ipython2",
   "version": "2.7.12"
  }
 },
 "nbformat": 4,
 "nbformat_minor": 2
}
